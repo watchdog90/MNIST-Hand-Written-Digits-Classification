{
 "cells": [
  {
   "cell_type": "markdown",
   "id": "35600b18",
   "metadata": {},
   "source": [
    "* MNIST hand-written digits classification"
   ]
  },
  {
   "cell_type": "code",
   "execution_count": 1,
   "id": "daf8f766",
   "metadata": {},
   "outputs": [],
   "source": [
    "from sklearn.model_selection import train_test_split\n",
    "from sklearn import preprocessing\n",
    "from sklearn.metrics import accuracy_score\n",
    "from sklearn.datasets import load_digits\n",
    "from sklearn import svm \n",
    "from sklearn.linear_model import LogisticRegression \n",
    "from sklearn.tree import DecisionTreeClassifier \n",
    "from sklearn.naive_bayes import GaussianNB, MultinomialNB, BernoulliNB \n",
    "from sklearn.neighbors import KNeighborsClassifier \n",
    "from sklearn.ensemble import  AdaBoostClassifier \n",
    "from xgboost import XGBClassifier \n",
    "from sklearn.discriminant_analysis import LinearDiscriminantAnalysis  \n",
    "import matplotlib.pyplot as plt"
   ]
  },
  {
   "cell_type": "markdown",
   "id": "74840578",
   "metadata": {},
   "source": [
    "# Load data set"
   ]
  },
  {
   "cell_type": "code",
   "execution_count": 2,
   "id": "6028417d",
   "metadata": {},
   "outputs": [
    {
     "data": {
      "text/plain": [
       "array([[ 0.,  0.,  5., ...,  0.,  0.,  0.],\n",
       "       [ 0.,  0.,  0., ..., 10.,  0.,  0.],\n",
       "       [ 0.,  0.,  0., ..., 16.,  9.,  0.],\n",
       "       ...,\n",
       "       [ 0.,  0.,  1., ...,  6.,  0.,  0.],\n",
       "       [ 0.,  0.,  2., ..., 12.,  0.,  0.],\n",
       "       [ 0.,  0., 10., ..., 12.,  1.,  0.]])"
      ]
     },
     "execution_count": 2,
     "metadata": {},
     "output_type": "execute_result"
    }
   ],
   "source": [
    "digits = load_digits()\n",
    "data = digits.data\n",
    "data"
   ]
  },
  {
   "cell_type": "markdown",
   "id": "f16fca54",
   "metadata": {},
   "source": [
    "# EDA"
   ]
  },
  {
   "cell_type": "code",
   "execution_count": 3,
   "id": "4cccc50b",
   "metadata": {},
   "outputs": [
    {
     "data": {
      "text/plain": [
       "(1797, 64)"
      ]
     },
     "execution_count": 3,
     "metadata": {},
     "output_type": "execute_result"
    }
   ],
   "source": [
    "data.shape"
   ]
  },
  {
   "cell_type": "code",
   "execution_count": 4,
   "id": "5cdc3a18",
   "metadata": {},
   "outputs": [
    {
     "name": "stdout",
     "output_type": "stream",
     "text": [
      "[[ 0.  0.  5. 13.  9.  1.  0.  0.]\n",
      " [ 0.  0. 13. 15. 10. 15.  5.  0.]\n",
      " [ 0.  3. 15.  2.  0. 11.  8.  0.]\n",
      " [ 0.  4. 12.  0.  0.  8.  8.  0.]\n",
      " [ 0.  5.  8.  0.  0.  9.  8.  0.]\n",
      " [ 0.  4. 11.  0.  1. 12.  7.  0.]\n",
      " [ 0.  2. 14.  5. 10. 12.  0.  0.]\n",
      " [ 0.  0.  6. 13. 10.  0.  0.  0.]]\n",
      "0\n"
     ]
    }
   ],
   "source": [
    "print(digits.images[0])\n",
    "print(digits.target[0])"
   ]
  },
  {
   "cell_type": "code",
   "execution_count": 5,
   "id": "94d77689",
   "metadata": {},
   "outputs": [
    {
     "data": {
      "image/png": "[encoded data removed]",
      "text/plain": [
       "<Figure size 640x480 with 1 Axes>"
      ]
     },
     "metadata": {},
     "output_type": "display_data"
    }
   ],
   "source": [
    "# plot the 1st image\n",
    "plt.gray()\n",
    "plt.imshow(digits.images[0])\n",
    "plt.show()"
   ]
  },
  {
   "cell_type": "markdown",
   "id": "3034f529",
   "metadata": {},
   "source": [
    "# Preprocessing data set"
   ]
  },
  {
   "cell_type": "code",
   "execution_count": 6,
   "id": "943a92d5",
   "metadata": {},
   "outputs": [
    {
     "name": "stdout",
     "output_type": "stream",
     "text": [
      "16.0\n",
      "40971\n",
      "86208\n"
     ]
    }
   ],
   "source": [
    "# Split data set, 25% - 75%\n",
    "train_x, test_x, train_y, test_y = train_test_split(data, digits.target, test_size=0.25, random_state=33)\n",
    "print(train_x.max())\n",
    "print((train_x>1).sum())\n",
    "print(train_x.shape[0]*train_x.shape[1])"
   ]
  },
  {
   "cell_type": "code",
   "execution_count": 7,
   "id": "a89e181c",
   "metadata": {},
   "outputs": [],
   "source": [
    "# Z-Score Normalisation\n",
    "ss = preprocessing.StandardScaler()\n",
    "train_ss_x = ss.fit_transform(train_x)\n",
    "test_ss_x = ss.transform(test_x)"
   ]
  },
  {
   "cell_type": "markdown",
   "id": "8f26e64c",
   "metadata": {},
   "source": [
    "# ML models"
   ]
  },
  {
   "cell_type": "markdown",
   "id": "b7af6ce2",
   "metadata": {},
   "source": [
    "## Logistic regression"
   ]
  },
  {
   "cell_type": "code",
   "execution_count": 8,
   "id": "57f82340",
   "metadata": {},
   "outputs": [
    {
     "name": "stdout",
     "output_type": "stream",
     "text": [
      "Logistic Regression Accuracy: 0.9600\n"
     ]
    }
   ],
   "source": [
    "lr = LogisticRegression(solver='liblinear', multi_class='auto') \n",
    "lr.fit(train_ss_x, train_y)\n",
    "predict_y=lr.predict(test_ss_x)\n",
    "print('Logistic Regression Accuracy: %0.4lf' % accuracy_score(predict_y, test_y))"
   ]
  },
  {
   "cell_type": "markdown",
   "id": "e670144a",
   "metadata": {},
   "source": [
    "## CART decision tree"
   ]
  },
  {
   "cell_type": "code",
   "execution_count": 9,
   "id": "ffc8d423",
   "metadata": {},
   "outputs": [
    {
     "name": "stdout",
     "output_type": "stream",
     "text": [
      "CART Accuracy: 0.8622\n"
     ]
    }
   ],
   "source": [
    "model = DecisionTreeClassifier()\n",
    "model.fit(train_ss_x,train_y)\n",
    "predict_y=model.predict(test_ss_x)\n",
    "print('CART Accuracy: %0.4lf' %accuracy_score(predict_y,test_y))"
   ]
  },
  {
   "cell_type": "markdown",
   "id": "f0f9759a",
   "metadata": {},
   "source": [
    "## LDA"
   ]
  },
  {
   "cell_type": "code",
   "execution_count": 10,
   "id": "2ddacedc",
   "metadata": {},
   "outputs": [
    {
     "name": "stdout",
     "output_type": "stream",
     "text": [
      "LDA Accuracy: 0.9378\n"
     ]
    }
   ],
   "source": [
    "model = LinearDiscriminantAnalysis(n_components=2)\n",
    "model.fit(train_ss_x,train_y)\n",
    "predict_y=model.predict(test_ss_x)\n",
    "print('LDA Accuracy: %0.4lf' %accuracy_score(predict_y,test_y))"
   ]
  },
  {
   "cell_type": "markdown",
   "id": "cf104d2d",
   "metadata": {},
   "source": [
    "## Naive Bayes"
   ]
  },
  {
   "cell_type": "code",
   "execution_count": 11,
   "id": "0ead804a",
   "metadata": {},
   "outputs": [
    {
     "name": "stdout",
     "output_type": "stream",
     "text": [
      "Naive Bayes Accuracy: 0.8311\n"
     ]
    }
   ],
   "source": [
    "model = GaussianNB()\n",
    "model.fit(train_x,train_y)\n",
    "predict_y=model.predict(test_x)\n",
    "print('Naive Bayes Accuracy: %0.4lf' %accuracy_score(predict_y,test_y))"
   ]
  },
  {
   "cell_type": "markdown",
   "id": "abcb9087",
   "metadata": {},
   "source": [
    "## SVM"
   ]
  },
  {
   "cell_type": "code",
   "execution_count": 12,
   "id": "23a24fff",
   "metadata": {},
   "outputs": [
    {
     "name": "stdout",
     "output_type": "stream",
     "text": [
      "SVM Accuracy: 0.9867\n"
     ]
    }
   ],
   "source": [
    "model = svm.SVC(kernel='rbf', C=1.0, gamma='auto')\n",
    "model.fit(train_ss_x,train_y)\n",
    "predict_y=model.predict(test_ss_x)\n",
    "print('SVM Accuracy: %0.4lf' %accuracy_score(predict_y,test_y))"
   ]
  },
  {
   "cell_type": "markdown",
   "id": "e504da08",
   "metadata": {},
   "source": [
    "## KNN"
   ]
  },
  {
   "cell_type": "code",
   "execution_count": 13,
   "id": "d5a1f160",
   "metadata": {},
   "outputs": [
    {
     "name": "stdout",
     "output_type": "stream",
     "text": [
      "KNN Accuracy: 0.9756\n"
     ]
    }
   ],
   "source": [
    "model = KNeighborsClassifier()\n",
    "model.fit(train_ss_x,train_y)\n",
    "predict_y=model.predict(test_ss_x)\n",
    "print('KNN Accuracy: %0.4lf' %accuracy_score(predict_y,test_y))"
   ]
  },
  {
   "cell_type": "markdown",
   "id": "b806e6a6",
   "metadata": {},
   "source": [
    "## AdaBoost"
   ]
  },
  {
   "cell_type": "code",
   "execution_count": 14,
   "id": "b2cfed9d",
   "metadata": {},
   "outputs": [
    {
     "name": "stdout",
     "output_type": "stream",
     "text": [
      "AdaBoost Accuracy: 0.9644\n"
     ]
    }
   ],
   "source": [
    "dt_stump = DecisionTreeClassifier(max_depth=5,min_samples_leaf=1)\n",
    "dt_stump.fit(train_ss_x, train_y)\n",
    "\n",
    "n_estimators=500\n",
    "model = AdaBoostClassifier(base_estimator=dt_stump,n_estimators=n_estimators)\n",
    "\n",
    "model.fit(train_ss_x,train_y)\n",
    "predict_y=model.predict(test_ss_x)\n",
    "print('AdaBoost Accuracy: %0.4lf' %accuracy_score(predict_y,test_y))"
   ]
  },
  {
   "cell_type": "markdown",
   "id": "25a5d34b",
   "metadata": {},
   "source": [
    "## XGBoost"
   ]
  },
  {
   "cell_type": "code",
   "execution_count": 15,
   "id": "c67152d9",
   "metadata": {},
   "outputs": [
    {
     "name": "stdout",
     "output_type": "stream",
     "text": [
      "XGBoost Accuracy: 0.9444\n"
     ]
    }
   ],
   "source": [
    "model = XGBClassifier()\n",
    "model.fit(train_ss_x,train_y)\n",
    "predict_y=model.predict(test_ss_x)\n",
    "print('XGBoost Accuracy: %0.4lf' %accuracy_score(predict_y,test_y))"
   ]
  }
 ],
 "metadata": {
  "kernelspec": {
   "display_name": "Python 3 (ipykernel)",
   "language": "python",
   "name": "python3"
  },
  "language_info": {
   "codemirror_mode": {
    "name": "ipython",
    "version": 3
   },
   "file_extension": ".py",
   "mimetype": "text/x-python",
   "name": "python",
   "nbconvert_exporter": "python",
   "pygments_lexer": "ipython3",
   "version": "3.9.13"
  },
  "toc": {
   "base_numbering": 1,
   "nav_menu": {},
   "number_sections": true,
   "sideBar": true,
   "skip_h1_title": false,
   "title_cell": "Table of Contents",
   "title_sidebar": "Contents",
   "toc_cell": false,
   "toc_position": {
    "height": "calc(100% - 180px)",
    "left": "10px",
    "top": "150px",
    "width": "172.358px"
   },
   "toc_section_display": true,
   "toc_window_display": true
  },
  "varInspector": {
   "cols": {
    "lenName": 16,
    "lenType": 16,
    "lenVar": 40
   },
   "kernels_config": {
    "python": {
     "delete_cmd_postfix": "",
     "delete_cmd_prefix": "del ",
     "library": "var_list.py",
     "varRefreshCmd": "print(var_dic_list())"
    },
    "r": {
     "delete_cmd_postfix": ") ",
     "delete_cmd_prefix": "rm(",
     "library": "var_list.r",
     "varRefreshCmd": "cat(var_dic_list()) "
    }
   },
   "types_to_exclude": [
    "module",
    "function",
    "builtin_function_or_method",
    "instance",
    "_Feature"
   ],
   "window_display": false
  }
 },
 "nbformat": 4,
 "nbformat_minor": 5
}
